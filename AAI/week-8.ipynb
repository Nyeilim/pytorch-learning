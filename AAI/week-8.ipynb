{
 "cells": [
  {
   "cell_type": "markdown",
   "metadata": {},
   "source": [
    "# 机器学习练习 1 - 线性回归"
   ]
  },
  {
   "cell_type": "markdown",
   "metadata": {},
   "source": []
  },
  {
   "cell_type": "markdown",
   "metadata": {},
   "source": [
    "## 单变量线性回归"
   ]
  },
  {
   "cell_type": "code",
   "execution_count": 1,
   "metadata": {},
   "outputs": [],
   "source": [
    "import numpy as np\n",
    "import pandas as pd\n",
    "import matplotlib.pyplot as plt"
   ]
  },
  {
   "cell_type": "code",
   "execution_count": 3,
   "metadata": {},
   "outputs": [
    {
     "data": {
      "text/html": [
       "<div>\n",
       "<style scoped>\n",
       "    .dataframe tbody tr th:only-of-type {\n",
       "        vertical-align: middle;\n",
       "    }\n",
       "\n",
       "    .dataframe tbody tr th {\n",
       "        vertical-align: top;\n",
       "    }\n",
       "\n",
       "    .dataframe thead th {\n",
       "        text-align: right;\n",
       "    }\n",
       "</style>\n",
       "<table border=\"1\" class=\"dataframe\">\n",
       "  <thead>\n",
       "    <tr style=\"text-align: right;\">\n",
       "      <th></th>\n",
       "      <th>YearsExperience</th>\n",
       "      <th>Salary</th>\n",
       "    </tr>\n",
       "  </thead>\n",
       "  <tbody>\n",
       "    <tr>\n",
       "      <th>0</th>\n",
       "      <td>1.1</td>\n",
       "      <td>39343</td>\n",
       "    </tr>\n",
       "    <tr>\n",
       "      <th>1</th>\n",
       "      <td>1.3</td>\n",
       "      <td>46205</td>\n",
       "    </tr>\n",
       "    <tr>\n",
       "      <th>2</th>\n",
       "      <td>1.5</td>\n",
       "      <td>37731</td>\n",
       "    </tr>\n",
       "    <tr>\n",
       "      <th>3</th>\n",
       "      <td>2.0</td>\n",
       "      <td>43525</td>\n",
       "    </tr>\n",
       "    <tr>\n",
       "      <th>4</th>\n",
       "      <td>2.2</td>\n",
       "      <td>39891</td>\n",
       "    </tr>\n",
       "  </tbody>\n",
       "</table>\n",
       "</div>"
      ],
      "text/plain": [
       "   YearsExperience  Salary\n",
       "0              1.1   39343\n",
       "1              1.3   46205\n",
       "2              1.5   37731\n",
       "3              2.0   43525\n",
       "4              2.2   39891"
      ]
     },
     "execution_count": 3,
     "metadata": {},
     "output_type": "execute_result"
    }
   ],
   "source": [
    "path = 'Salary_Data.csv'\n",
    "data = pd.read_csv(path, header=None, names=['YearsExperience', 'Salary'])\n",
    "data.head()\n",
    "#练习1还包括一个时间预测数据集，其中有1个变量（车子英里数）和目标（时间）"
   ]
  },
  {
   "cell_type": "code",
   "execution_count": 4,
   "metadata": {},
   "outputs": [
    {
     "data": {
      "text/html": [
       "<div>\n",
       "<style scoped>\n",
       "    .dataframe tbody tr th:only-of-type {\n",
       "        vertical-align: middle;\n",
       "    }\n",
       "\n",
       "    .dataframe tbody tr th {\n",
       "        vertical-align: top;\n",
       "    }\n",
       "\n",
       "    .dataframe thead th {\n",
       "        text-align: right;\n",
       "    }\n",
       "</style>\n",
       "<table border=\"1\" class=\"dataframe\">\n",
       "  <thead>\n",
       "    <tr style=\"text-align: right;\">\n",
       "      <th></th>\n",
       "      <th>YearsExperience</th>\n",
       "      <th>Salary</th>\n",
       "    </tr>\n",
       "  </thead>\n",
       "  <tbody>\n",
       "    <tr>\n",
       "      <th>count</th>\n",
       "      <td>30.000000</td>\n",
       "      <td>30.000000</td>\n",
       "    </tr>\n",
       "    <tr>\n",
       "      <th>mean</th>\n",
       "      <td>5.313333</td>\n",
       "      <td>76003.000000</td>\n",
       "    </tr>\n",
       "    <tr>\n",
       "      <th>std</th>\n",
       "      <td>2.837888</td>\n",
       "      <td>27414.429785</td>\n",
       "    </tr>\n",
       "    <tr>\n",
       "      <th>min</th>\n",
       "      <td>1.100000</td>\n",
       "      <td>37731.000000</td>\n",
       "    </tr>\n",
       "    <tr>\n",
       "      <th>25%</th>\n",
       "      <td>3.200000</td>\n",
       "      <td>56720.750000</td>\n",
       "    </tr>\n",
       "    <tr>\n",
       "      <th>50%</th>\n",
       "      <td>4.700000</td>\n",
       "      <td>65237.000000</td>\n",
       "    </tr>\n",
       "    <tr>\n",
       "      <th>75%</th>\n",
       "      <td>7.700000</td>\n",
       "      <td>100544.750000</td>\n",
       "    </tr>\n",
       "    <tr>\n",
       "      <th>max</th>\n",
       "      <td>10.500000</td>\n",
       "      <td>122391.000000</td>\n",
       "    </tr>\n",
       "  </tbody>\n",
       "</table>\n",
       "</div>"
      ],
      "text/plain": [
       "       YearsExperience         Salary\n",
       "count        30.000000      30.000000\n",
       "mean          5.313333   76003.000000\n",
       "std           2.837888   27414.429785\n",
       "min           1.100000   37731.000000\n",
       "25%           3.200000   56720.750000\n",
       "50%           4.700000   65237.000000\n",
       "75%           7.700000  100544.750000\n",
       "max          10.500000  122391.000000"
      ]
     },
     "execution_count": 4,
     "metadata": {},
     "output_type": "execute_result"
    }
   ],
   "source": [
    "data.describe()"
   ]
  },
  {
   "cell_type": "markdown",
   "metadata": {},
   "source": [
    "看下数据长什么样子"
   ]
  },
  {
   "cell_type": "code",
   "execution_count": 5,
   "metadata": {},
   "outputs": [
    {
     "data": {
      "image/png": "[encoded data removed]",
      "text/plain": [
       "<Figure size 1200x800 with 1 Axes>"
      ]
     },
     "metadata": {},
     "output_type": "display_data"
    }
   ],
   "source": [
    "data.plot(kind='scatter', x='YearsExperience', y='Salary', figsize=(12,8))\n",
    "plt.show()"
   ]
  },
  {
   "cell_type": "markdown",
   "metadata": {},
   "source": [
    "现在让我们使用梯度下降来实现线性回归，以最小化成本函数。 "
   ]
  },
  {
   "cell_type": "markdown",
   "metadata": {},
   "source": [
    "首先，我们将创建一个以参数θ为特征函数的代价函数\n",
    "$$J\\left( \\theta  \\right)=\\frac{1}{2m}\\sum\\limits_{i=1}^{m}{{{\\left( {{h}_{\\theta }}\\left( {{x}^{(i)}} \\right)-{{y}^{(i)}} \\right)}^{2}}}$$\n",
    "其中：$${{h}_{\\theta }}\\left( x \\right)={{\\theta }^{T}}X={{\\theta }_{0}}{{x}_{0}}+{{\\theta }_{1}}{{x}_{1}}+{{\\theta }_{2}}{{x}_{2}}+...+{{\\theta }_{n}}{{x}_{n}}$$ "
   ]
  },
  {
   "cell_type": "code",
   "execution_count": 6,
   "metadata": {},
   "outputs": [],
   "source": [
    "def computeCost(X, y, theta):\n",
    "    inner = np.power(((X * theta.T) - y), 2)\n",
    "    return np.sum(inner) / (2 * len(X))"
   ]
  },
  {
   "cell_type": "markdown",
   "metadata": {},
   "source": [
    "让我们在训练集中添加一列，以便我们可以使用向量化的解决方案来计算代价和梯度。"
   ]
  },
  {
   "cell_type": "code",
   "execution_count": 7,
   "metadata": {},
   "outputs": [
    {
     "data": {
      "text/html": [
       "<div>\n",
       "<style scoped>\n",
       "    .dataframe tbody tr th:only-of-type {\n",
       "        vertical-align: middle;\n",
       "    }\n",
       "\n",
       "    .dataframe tbody tr th {\n",
       "        vertical-align: top;\n",
       "    }\n",
       "\n",
       "    .dataframe thead th {\n",
       "        text-align: right;\n",
       "    }\n",
       "</style>\n",
       "<table border=\"1\" class=\"dataframe\">\n",
       "  <thead>\n",
       "    <tr style=\"text-align: right;\">\n",
       "      <th></th>\n",
       "      <th>YearsExperience</th>\n",
       "      <th>Salary</th>\n",
       "    </tr>\n",
       "  </thead>\n",
       "  <tbody>\n",
       "    <tr>\n",
       "      <th>0</th>\n",
       "      <td>1.1</td>\n",
       "      <td>39343</td>\n",
       "    </tr>\n",
       "    <tr>\n",
       "      <th>1</th>\n",
       "      <td>1.3</td>\n",
       "      <td>46205</td>\n",
       "    </tr>\n",
       "    <tr>\n",
       "      <th>2</th>\n",
       "      <td>1.5</td>\n",
       "      <td>37731</td>\n",
       "    </tr>\n",
       "    <tr>\n",
       "      <th>3</th>\n",
       "      <td>2.0</td>\n",
       "      <td>43525</td>\n",
       "    </tr>\n",
       "    <tr>\n",
       "      <th>4</th>\n",
       "      <td>2.2</td>\n",
       "      <td>39891</td>\n",
       "    </tr>\n",
       "  </tbody>\n",
       "</table>\n",
       "</div>"
      ],
      "text/plain": [
       "   YearsExperience  Salary\n",
       "0              1.1   39343\n",
       "1              1.3   46205\n",
       "2              1.5   37731\n",
       "3              2.0   43525\n",
       "4              2.2   39891"
      ]
     },
     "execution_count": 7,
     "metadata": {},
     "output_type": "execute_result"
    }
   ],
   "source": [
    "data.head()"
   ]
  },
  {
   "cell_type": "code",
   "execution_count": 8,
   "metadata": {},
   "outputs": [],
   "source": [
    "data.insert(0, 'Ones', 1)"
   ]
  },
  {
   "cell_type": "markdown",
   "metadata": {},
   "source": [
    "DataFrame.insert(loc, column, value, allow_duplicates=False)\n",
    "\n",
    "Parameters：\n",
    "\n",
    "loc ：参数column插入的位置，如果想插入到第一例则为0，取值范围： 0 <= loc <= len(columns),其中len(columns)为Dataframe的列数\n",
    "\n",
    "column ：给插入数据value取列名，可为数字，字符串等\n",
    "\n",
    "value ：可以是整数，Series或者数组等\n",
    "\n",
    "allow_duplicates : 默认 False"
   ]
  },
  {
   "cell_type": "code",
   "execution_count": 9,
   "metadata": {},
   "outputs": [
    {
     "data": {
      "text/html": [
       "<div>\n",
       "<style scoped>\n",
       "    .dataframe tbody tr th:only-of-type {\n",
       "        vertical-align: middle;\n",
       "    }\n",
       "\n",
       "    .dataframe tbody tr th {\n",
       "        vertical-align: top;\n",
       "    }\n",
       "\n",
       "    .dataframe thead th {\n",
       "        text-align: right;\n",
       "    }\n",
       "</style>\n",
       "<table border=\"1\" class=\"dataframe\">\n",
       "  <thead>\n",
       "    <tr style=\"text-align: right;\">\n",
       "      <th></th>\n",
       "      <th>Ones</th>\n",
       "      <th>YearsExperience</th>\n",
       "      <th>Salary</th>\n",
       "    </tr>\n",
       "  </thead>\n",
       "  <tbody>\n",
       "    <tr>\n",
       "      <th>0</th>\n",
       "      <td>1</td>\n",
       "      <td>1.1</td>\n",
       "      <td>39343</td>\n",
       "    </tr>\n",
       "    <tr>\n",
       "      <th>1</th>\n",
       "      <td>1</td>\n",
       "      <td>1.3</td>\n",
       "      <td>46205</td>\n",
       "    </tr>\n",
       "    <tr>\n",
       "      <th>2</th>\n",
       "      <td>1</td>\n",
       "      <td>1.5</td>\n",
       "      <td>37731</td>\n",
       "    </tr>\n",
       "    <tr>\n",
       "      <th>3</th>\n",
       "      <td>1</td>\n",
       "      <td>2.0</td>\n",
       "      <td>43525</td>\n",
       "    </tr>\n",
       "    <tr>\n",
       "      <th>4</th>\n",
       "      <td>1</td>\n",
       "      <td>2.2</td>\n",
       "      <td>39891</td>\n",
       "    </tr>\n",
       "  </tbody>\n",
       "</table>\n",
       "</div>"
      ],
      "text/plain": [
       "   Ones  YearsExperience  Salary\n",
       "0     1              1.1   39343\n",
       "1     1              1.3   46205\n",
       "2     1              1.5   37731\n",
       "3     1              2.0   43525\n",
       "4     1              2.2   39891"
      ]
     },
     "execution_count": 9,
     "metadata": {},
     "output_type": "execute_result"
    }
   ],
   "source": [
    "data.head()"
   ]
  },
  {
   "cell_type": "markdown",
   "metadata": {},
   "source": [
    "现在我们来做一些变量初始化。"
   ]
  },
  {
   "cell_type": "code",
   "execution_count": 9,
   "metadata": {},
   "outputs": [
    {
     "data": {
      "text/plain": [
       "(30, 3)"
      ]
     },
     "execution_count": 9,
     "metadata": {},
     "output_type": "execute_result"
    }
   ],
   "source": [
    "data.shape"
   ]
  },
  {
   "cell_type": "code",
   "execution_count": 17,
   "metadata": {},
   "outputs": [],
   "source": [
    "# set X (training data) and y (target variable)\n",
    "cols = data.shape[1]\n",
    "X = data.iloc[:,0:cols-1]#X是所有行，去掉最后一列\n",
    "y = data.iloc[:,cols-1:cols]#X是所有行，最后一列"
   ]
  },
  {
   "cell_type": "markdown",
   "metadata": {},
   "source": [
    "### Pandas中loc与iloc\n",
    "+ loc从索引中获取具有特定标签的行（或列）。\n",
    "+ iloc在索引中的特定位置获取行（或列）（因此它只接受整数）。"
   ]
  },
  {
   "cell_type": "markdown",
   "metadata": {},
   "source": [
    "观察下 X (训练集) and y (目标变量)是否正确."
   ]
  },
  {
   "cell_type": "code",
   "execution_count": 12,
   "metadata": {
    "scrolled": true
   },
   "outputs": [
    {
     "data": {
      "text/html": [
       "<div>\n",
       "<style scoped>\n",
       "    .dataframe tbody tr th:only-of-type {\n",
       "        vertical-align: middle;\n",
       "    }\n",
       "\n",
       "    .dataframe tbody tr th {\n",
       "        vertical-align: top;\n",
       "    }\n",
       "\n",
       "    .dataframe thead th {\n",
       "        text-align: right;\n",
       "    }\n",
       "</style>\n",
       "<table border=\"1\" class=\"dataframe\">\n",
       "  <thead>\n",
       "    <tr style=\"text-align: right;\">\n",
       "      <th></th>\n",
       "      <th>Ones</th>\n",
       "      <th>YearsExperience</th>\n",
       "    </tr>\n",
       "  </thead>\n",
       "  <tbody>\n",
       "    <tr>\n",
       "      <th>0</th>\n",
       "      <td>1</td>\n",
       "      <td>1.1</td>\n",
       "    </tr>\n",
       "    <tr>\n",
       "      <th>1</th>\n",
       "      <td>1</td>\n",
       "      <td>1.3</td>\n",
       "    </tr>\n",
       "    <tr>\n",
       "      <th>2</th>\n",
       "      <td>1</td>\n",
       "      <td>1.5</td>\n",
       "    </tr>\n",
       "    <tr>\n",
       "      <th>3</th>\n",
       "      <td>1</td>\n",
       "      <td>2.0</td>\n",
       "    </tr>\n",
       "    <tr>\n",
       "      <th>4</th>\n",
       "      <td>1</td>\n",
       "      <td>2.2</td>\n",
       "    </tr>\n",
       "  </tbody>\n",
       "</table>\n",
       "</div>"
      ],
      "text/plain": [
       "   Ones  YearsExperience\n",
       "0     1              1.1\n",
       "1     1              1.3\n",
       "2     1              1.5\n",
       "3     1              2.0\n",
       "4     1              2.2"
      ]
     },
     "execution_count": 12,
     "metadata": {},
     "output_type": "execute_result"
    }
   ],
   "source": [
    "X.head()#head()是观察前5行"
   ]
  },
  {
   "cell_type": "code",
   "execution_count": 14,
   "metadata": {},
   "outputs": [
    {
     "data": {
      "text/html": [
       "<div>\n",
       "<style scoped>\n",
       "    .dataframe tbody tr th:only-of-type {\n",
       "        vertical-align: middle;\n",
       "    }\n",
       "\n",
       "    .dataframe tbody tr th {\n",
       "        vertical-align: top;\n",
       "    }\n",
       "\n",
       "    .dataframe thead th {\n",
       "        text-align: right;\n",
       "    }\n",
       "</style>\n",
       "<table border=\"1\" class=\"dataframe\">\n",
       "  <thead>\n",
       "    <tr style=\"text-align: right;\">\n",
       "      <th></th>\n",
       "      <th>Salary</th>\n",
       "    </tr>\n",
       "  </thead>\n",
       "  <tbody>\n",
       "    <tr>\n",
       "      <th>0</th>\n",
       "      <td>39343</td>\n",
       "    </tr>\n",
       "    <tr>\n",
       "      <th>1</th>\n",
       "      <td>46205</td>\n",
       "    </tr>\n",
       "    <tr>\n",
       "      <th>2</th>\n",
       "      <td>37731</td>\n",
       "    </tr>\n",
       "    <tr>\n",
       "      <th>3</th>\n",
       "      <td>43525</td>\n",
       "    </tr>\n",
       "    <tr>\n",
       "      <th>4</th>\n",
       "      <td>39891</td>\n",
       "    </tr>\n",
       "    <tr>\n",
       "      <th>5</th>\n",
       "      <td>56642</td>\n",
       "    </tr>\n",
       "    <tr>\n",
       "      <th>6</th>\n",
       "      <td>60150</td>\n",
       "    </tr>\n",
       "    <tr>\n",
       "      <th>7</th>\n",
       "      <td>54445</td>\n",
       "    </tr>\n",
       "    <tr>\n",
       "      <th>8</th>\n",
       "      <td>64445</td>\n",
       "    </tr>\n",
       "    <tr>\n",
       "      <th>9</th>\n",
       "      <td>57189</td>\n",
       "    </tr>\n",
       "    <tr>\n",
       "      <th>10</th>\n",
       "      <td>63218</td>\n",
       "    </tr>\n",
       "    <tr>\n",
       "      <th>11</th>\n",
       "      <td>55794</td>\n",
       "    </tr>\n",
       "    <tr>\n",
       "      <th>12</th>\n",
       "      <td>56957</td>\n",
       "    </tr>\n",
       "    <tr>\n",
       "      <th>13</th>\n",
       "      <td>57081</td>\n",
       "    </tr>\n",
       "    <tr>\n",
       "      <th>14</th>\n",
       "      <td>61111</td>\n",
       "    </tr>\n",
       "    <tr>\n",
       "      <th>15</th>\n",
       "      <td>67938</td>\n",
       "    </tr>\n",
       "    <tr>\n",
       "      <th>16</th>\n",
       "      <td>66029</td>\n",
       "    </tr>\n",
       "    <tr>\n",
       "      <th>17</th>\n",
       "      <td>83088</td>\n",
       "    </tr>\n",
       "    <tr>\n",
       "      <th>18</th>\n",
       "      <td>81363</td>\n",
       "    </tr>\n",
       "    <tr>\n",
       "      <th>19</th>\n",
       "      <td>93940</td>\n",
       "    </tr>\n",
       "    <tr>\n",
       "      <th>20</th>\n",
       "      <td>91738</td>\n",
       "    </tr>\n",
       "    <tr>\n",
       "      <th>21</th>\n",
       "      <td>98273</td>\n",
       "    </tr>\n",
       "    <tr>\n",
       "      <th>22</th>\n",
       "      <td>101302</td>\n",
       "    </tr>\n",
       "    <tr>\n",
       "      <th>23</th>\n",
       "      <td>113812</td>\n",
       "    </tr>\n",
       "    <tr>\n",
       "      <th>24</th>\n",
       "      <td>109431</td>\n",
       "    </tr>\n",
       "    <tr>\n",
       "      <th>25</th>\n",
       "      <td>105582</td>\n",
       "    </tr>\n",
       "    <tr>\n",
       "      <th>26</th>\n",
       "      <td>116969</td>\n",
       "    </tr>\n",
       "    <tr>\n",
       "      <th>27</th>\n",
       "      <td>112635</td>\n",
       "    </tr>\n",
       "    <tr>\n",
       "      <th>28</th>\n",
       "      <td>122391</td>\n",
       "    </tr>\n",
       "    <tr>\n",
       "      <th>29</th>\n",
       "      <td>121872</td>\n",
       "    </tr>\n",
       "  </tbody>\n",
       "</table>\n",
       "</div>"
      ],
      "text/plain": [
       "    Salary\n",
       "0    39343\n",
       "1    46205\n",
       "2    37731\n",
       "3    43525\n",
       "4    39891\n",
       "5    56642\n",
       "6    60150\n",
       "7    54445\n",
       "8    64445\n",
       "9    57189\n",
       "10   63218\n",
       "11   55794\n",
       "12   56957\n",
       "13   57081\n",
       "14   61111\n",
       "15   67938\n",
       "16   66029\n",
       "17   83088\n",
       "18   81363\n",
       "19   93940\n",
       "20   91738\n",
       "21   98273\n",
       "22  101302\n",
       "23  113812\n",
       "24  109431\n",
       "25  105582\n",
       "26  116969\n",
       "27  112635\n",
       "28  122391\n",
       "29  121872"
      ]
     },
     "execution_count": 14,
     "metadata": {},
     "output_type": "execute_result"
    }
   ],
   "source": [
    "y"
   ]
  },
  {
   "cell_type": "markdown",
   "metadata": {},
   "source": [
    "代价函数是应该是numpy矩阵，所以我们需要转换X和Y，然后才能使用它们。 我们还需要初始化theta。"
   ]
  },
  {
   "cell_type": "code",
   "execution_count": 22,
   "metadata": {},
   "outputs": [
    {
     "ename": "AttributeError",
     "evalue": "'matrix' object has no attribute 'values'",
     "output_type": "error",
     "traceback": [
      "\u001b[0;31m---------------------------------------------------------------------------\u001b[0m",
      "\u001b[0;31mAttributeError\u001b[0m                            Traceback (most recent call last)",
      "\u001b[0;32m<ipython-input-22-0867ebd57251>\u001b[0m in \u001b[0;36m<module>\u001b[0;34m\u001b[0m\n\u001b[0;32m----> 1\u001b[0;31m \u001b[0mX\u001b[0m \u001b[0;34m=\u001b[0m \u001b[0mnp\u001b[0m\u001b[0;34m.\u001b[0m\u001b[0mmatrix\u001b[0m\u001b[0;34m(\u001b[0m\u001b[0mX\u001b[0m\u001b[0;34m.\u001b[0m\u001b[0mvalues\u001b[0m\u001b[0;34m)\u001b[0m\u001b[0;34m\u001b[0m\u001b[0;34m\u001b[0m\u001b[0m\n\u001b[0m\u001b[1;32m      2\u001b[0m \u001b[0my\u001b[0m \u001b[0;34m=\u001b[0m \u001b[0mnp\u001b[0m\u001b[0;34m.\u001b[0m\u001b[0mmatrix\u001b[0m\u001b[0;34m(\u001b[0m\u001b[0my\u001b[0m\u001b[0;34m.\u001b[0m\u001b[0mvalues\u001b[0m\u001b[0;34m)\u001b[0m\u001b[0;34m\u001b[0m\u001b[0;34m\u001b[0m\u001b[0m\n\u001b[1;32m      3\u001b[0m \u001b[0mtheta\u001b[0m \u001b[0;34m=\u001b[0m \u001b[0mnp\u001b[0m\u001b[0;34m.\u001b[0m\u001b[0mmatrix\u001b[0m\u001b[0;34m(\u001b[0m\u001b[0mnp\u001b[0m\u001b[0;34m.\u001b[0m\u001b[0marray\u001b[0m\u001b[0;34m(\u001b[0m\u001b[0;34m[\u001b[0m\u001b[0;36m3\u001b[0m\u001b[0;34m,\u001b[0m\u001b[0;36m5\u001b[0m\u001b[0;34m]\u001b[0m\u001b[0;34m)\u001b[0m\u001b[0;34m)\u001b[0m\u001b[0;34m\u001b[0m\u001b[0;34m\u001b[0m\u001b[0m\n",
      "\u001b[0;31mAttributeError\u001b[0m: 'matrix' object has no attribute 'values'"
     ]
    }
   ],
   "source": [
    "X = np.matrix(X.values)\n",
    "y = np.matrix(y.values)\n"
   ]
  },
  {
   "cell_type": "code",
   "execution_count": 28,
   "metadata": {},
   "outputs": [],
   "source": [
    "theta = np.matrix(np.array([-6,100]))"
   ]
  },
  {
   "cell_type": "markdown",
   "metadata": {},
   "source": [
    "### numpy中matrix 和 array的区别\n",
    "（1） Numpy matrices必须是2维的,但是 numpy arrays (ndarrays) 可以是多维的（1D，2D，3D····ND）. Matrix是Array的一个小的分支，包含于Array。所以matrix 拥有array的所有特性。\n",
    "\n",
    "（2） 在numpy中matrix的主要优势是：相对简单的乘法运算符号。例如，a和b是两个matrices，那么a*b，就是矩阵积。\n",
    "\n",
    "\n",
    "（3） matrix 和 array 都可以通过objects后面加.T 得到其转置。但是 matrix objects 还可以在后面加 .H 得到共轭矩阵, 加 .I 得到逆矩阵。\n",
    "\n",
    " \n",
    "\n",
    "（4） 相反的是在numpy里面arrays遵从逐个元素的运算，所以array：c 和d的c*d运算相当于matlab里面的c.*d运算。而矩阵相乘，则需要numpy里面的dot命令 :\n",
    "\n"
   ]
  },
  {
   "cell_type": "code",
   "execution_count": 19,
   "metadata": {},
   "outputs": [
    {
     "data": {
      "text/plain": [
       "matrix([[0, 0]])"
      ]
     },
     "execution_count": 19,
     "metadata": {},
     "output_type": "execute_result"
    }
   ],
   "source": [
    "theta"
   ]
  },
  {
   "cell_type": "markdown",
   "metadata": {},
   "source": [
    "theta 是一个(1,2)矩阵"
   ]
  },
  {
   "cell_type": "markdown",
   "metadata": {},
   "source": [
    "看下维度"
   ]
  },
  {
   "cell_type": "code",
   "execution_count": 20,
   "metadata": {},
   "outputs": [
    {
     "data": {
      "text/plain": [
       "((30, 2), (1, 2), (30, 1))"
      ]
     },
     "execution_count": 20,
     "metadata": {},
     "output_type": "execute_result"
    }
   ],
   "source": [
    "X.shape, theta.shape, y.shape"
   ]
  },
  {
   "cell_type": "markdown",
   "metadata": {},
   "source": [
    "计算代价函数 (theta初始值为0)."
   ]
  },
  {
   "cell_type": "code",
   "execution_count": 29,
   "metadata": {},
   "outputs": [
    {
     "data": {
      "text/plain": [
       "3204370696.7"
      ]
     },
     "execution_count": 29,
     "metadata": {},
     "output_type": "execute_result"
    }
   ],
   "source": [
    "computeCost(X, y, theta)"
   ]
  },
  {
   "cell_type": "markdown",
   "metadata": {},
   "source": [
    "# gradient decent（梯度下降）\n",
    "$${{\\theta }_{j}}:={{\\theta }_{j}}-\\alpha \\frac{\\partial }{\\partial {{\\theta }_{j}}}J\\left( \\theta  \\right)$$"
   ]
  },
  {
   "cell_type": "code",
   "execution_count": 59,
   "metadata": {},
   "outputs": [],
   "source": [
    "def gradientDescent(X, y, theta, alpha, iters):\n",
    "    temp = np.matrix(np.zeros(theta.shape))\n",
    "    parameters = int(theta.ravel().shape[1]) # ravel()多维数组转换为一维数组,和flatten()的功能相似\n",
    "    cost = np.zeros(iters)\n",
    "    \n",
    "    for i in range(iters):\n",
    "        error = (X * theta.T) - y\n",
    "        \n",
    "        for j in range(parameters):\n",
    "            term = np.multiply(error, X[:,j])\n",
    "            temp[0,j] = theta[0,j] - ((alpha / len(X)) * np.sum(term))\n",
    "            \n",
    "        theta = temp\n",
    "        cost[i] = computeCost(X, y, theta)\n",
    "        \n",
    "    return theta, cost"
   ]
  },
  {
   "cell_type": "markdown",
   "metadata": {},
   "source": [
    "初始化一些附加变量 - 学习速率α和要执行的迭代次数。"
   ]
  },
  {
   "cell_type": "code",
   "execution_count": 79,
   "metadata": {},
   "outputs": [],
   "source": [
    "alpha = 0.01\n",
    "iters = 200"
   ]
  },
  {
   "cell_type": "markdown",
   "metadata": {},
   "source": [
    "现在让我们运行梯度下降算法来将我们的参数θ适合于训练集。"
   ]
  },
  {
   "cell_type": "code",
   "execution_count": 80,
   "metadata": {},
   "outputs": [
    {
     "data": {
      "text/plain": [
       "array([1.32586271e+09, 5.75508235e+08, 2.75692661e+08, 1.55804507e+08,\n",
       "       1.07772636e+08, 8.84378664e+07, 8.05641887e+07, 7.72682440e+07,\n",
       "       7.58010984e+07, 7.50649379e+07, 7.46213378e+07, 7.42952065e+07,\n",
       "       7.40166170e+07, 7.37576407e+07, 7.35071213e+07, 7.32606009e+07,\n",
       "       7.30162966e+07, 7.27734936e+07, 7.25319039e+07, 7.22914101e+07,\n",
       "       7.20519624e+07, 7.18135385e+07, 7.15761270e+07, 7.13397207e+07,\n",
       "       7.11043142e+07, 7.08699029e+07, 7.06364822e+07, 7.04040481e+07,\n",
       "       7.01725962e+07, 6.99421225e+07, 6.97126228e+07, 6.94840929e+07,\n",
       "       6.92565288e+07, 6.90299263e+07, 6.88042815e+07, 6.85795903e+07,\n",
       "       6.83558486e+07, 6.81330525e+07, 6.79111978e+07, 6.76902808e+07,\n",
       "       6.74702973e+07, 6.72512435e+07, 6.70331154e+07, 6.68159091e+07,\n",
       "       6.65996207e+07, 6.63842464e+07, 6.61697822e+07, 6.59562244e+07,\n",
       "       6.57435690e+07, 6.55318124e+07, 6.53209506e+07, 6.51109799e+07,\n",
       "       6.49018965e+07, 6.46936968e+07, 6.44863769e+07, 6.42799331e+07,\n",
       "       6.40743617e+07, 6.38696591e+07, 6.36658216e+07, 6.34628455e+07,\n",
       "       6.32607272e+07, 6.30594630e+07, 6.28590493e+07, 6.26594826e+07,\n",
       "       6.24607593e+07, 6.22628758e+07, 6.20658285e+07, 6.18696140e+07,\n",
       "       6.16742286e+07, 6.14796690e+07, 6.12859315e+07, 6.10930128e+07,\n",
       "       6.09009094e+07, 6.07096178e+07, 6.05191346e+07, 6.03294564e+07,\n",
       "       6.01405797e+07, 5.99525013e+07, 5.97652177e+07, 5.95787255e+07,\n",
       "       5.93930214e+07, 5.92081022e+07, 5.90239644e+07, 5.88406047e+07,\n",
       "       5.86580200e+07, 5.84762068e+07, 5.82951620e+07, 5.81148823e+07,\n",
       "       5.79353644e+07, 5.77566052e+07, 5.75786014e+07, 5.74013499e+07,\n",
       "       5.72248474e+07, 5.70490908e+07, 5.68740770e+07, 5.66998028e+07,\n",
       "       5.65262651e+07, 5.63534607e+07, 5.61813866e+07, 5.60100397e+07,\n",
       "       5.58394169e+07, 5.56695151e+07, 5.55003314e+07, 5.53318626e+07,\n",
       "       5.51641058e+07, 5.49970579e+07, 5.48307160e+07, 5.46650770e+07,\n",
       "       5.45001380e+07, 5.43358960e+07, 5.41723482e+07, 5.40094914e+07,\n",
       "       5.38473230e+07, 5.36858398e+07, 5.35250391e+07, 5.33649179e+07,\n",
       "       5.32054733e+07, 5.30467026e+07, 5.28886029e+07, 5.27311713e+07,\n",
       "       5.25744050e+07, 5.24183011e+07, 5.22628570e+07, 5.21080698e+07,\n",
       "       5.19539367e+07, 5.18004550e+07, 5.16476219e+07, 5.14954347e+07,\n",
       "       5.13438906e+07, 5.11929869e+07, 5.10427210e+07, 5.08930900e+07,\n",
       "       5.07440915e+07, 5.05957225e+07, 5.04479806e+07, 5.03008631e+07,\n",
       "       5.01543672e+07, 5.00084905e+07, 4.98632302e+07, 4.97185838e+07,\n",
       "       4.95745487e+07, 4.94311223e+07, 4.92883020e+07, 4.91460852e+07,\n",
       "       4.90044695e+07, 4.88634522e+07, 4.87230308e+07, 4.85832029e+07,\n",
       "       4.84439659e+07, 4.83053173e+07, 4.81672547e+07, 4.80297755e+07,\n",
       "       4.78928772e+07, 4.77565575e+07, 4.76208139e+07, 4.74856440e+07,\n",
       "       4.73510453e+07, 4.72170153e+07, 4.70835518e+07, 4.69506524e+07,\n",
       "       4.68183145e+07, 4.66865359e+07, 4.65553142e+07, 4.64246471e+07,\n",
       "       4.62945321e+07, 4.61649670e+07, 4.60359495e+07, 4.59074771e+07,\n",
       "       4.57795477e+07, 4.56521590e+07, 4.55253086e+07, 4.53989942e+07,\n",
       "       4.52732137e+07, 4.51479647e+07, 4.50232450e+07, 4.48990523e+07,\n",
       "       4.47753845e+07, 4.46522393e+07, 4.45296146e+07, 4.44075080e+07,\n",
       "       4.42859175e+07, 4.41648408e+07, 4.40442758e+07, 4.39242203e+07,\n",
       "       4.38046721e+07, 4.36856292e+07, 4.35670893e+07, 4.34490504e+07,\n",
       "       4.33315103e+07, 4.32144669e+07, 4.30979182e+07, 4.29818620e+07,\n",
       "       4.28662962e+07, 4.27512188e+07, 4.26366278e+07, 4.25225210e+07,\n",
       "       4.24088964e+07, 4.22957520e+07, 4.21830857e+07, 4.20708956e+07])"
      ]
     },
     "execution_count": 80,
     "metadata": {},
     "output_type": "execute_result"
    }
   ],
   "source": [
    "g, cost = gradientDescent(X, y, theta, alpha, iters)\n",
    "cost\n",
    "\n"
   ]
  },
  {
   "cell_type": "markdown",
   "metadata": {},
   "source": [
    "最后，我们可以使用我们拟合的参数计算训练模型的代价函数（误差）。"
   ]
  },
  {
   "cell_type": "code",
   "execution_count": 70,
   "metadata": {},
   "outputs": [
    {
     "data": {
      "text/plain": [
       "matrix([[25792.20018346,  9449.96232371]])"
      ]
     },
     "execution_count": 70,
     "metadata": {},
     "output_type": "execute_result"
    }
   ],
   "source": [
    "computeCost(X, y, g)\n",
    "g"
   ]
  },
  {
   "cell_type": "markdown",
   "metadata": {},
   "source": [
    "现在我们来绘制线性模型以及数据，直观地看出它的拟合。"
   ]
  },
  {
   "cell_type": "markdown",
   "metadata": {},
   "source": [
    "由于梯度方程式函数也在每个训练迭代中输出一个代价的向量，所以我们也可以绘制。 请注意，代价总是降低 - 这是凸优化问题的一个例子。"
   ]
  },
  {
   "cell_type": "code",
   "execution_count": 81,
   "metadata": {},
   "outputs": [
    {
     "data": {
      "image/png": "[encoded data removed]",
      "text/plain": [
       "<Figure size 1200x800 with 1 Axes>"
      ]
     },
     "metadata": {},
     "output_type": "display_data"
    }
   ],
   "source": [
    "x = np.linspace(data.YearsExperience.min(), data.YearsExperience.max(), 100)\n",
    "f = g[0, 0] + (g[0, 1] * x)\n",
    "\n",
    "fig, ax = plt.subplots(figsize=(12,8))\n",
    "ax.plot(x, f, 'r', label='Prediction')\n",
    "ax.scatter(data.YearsExperience, data.Salary, label='Traning Data')\n",
    "ax.legend(loc=2)\n",
    "ax.set_xlabel('YearsExperience')\n",
    "ax.set_ylabel('Salary')\n",
    "ax.set_title('Predicted Salary vs. YearsExperience Size')\n",
    "plt.show()"
   ]
  },
  {
   "cell_type": "code",
   "execution_count": 82,
   "metadata": {},
   "outputs": [
    {
     "data": {
      "image/png": "[encoded data removed]",
      "text/plain": [
       "<Figure size 1200x800 with 1 Axes>"
      ]
     },
     "metadata": {},
     "output_type": "display_data"
    }
   ],
   "source": [
    "fig, ax = plt.subplots(figsize=(12,8))\n",
    "ax.plot(np.arange(iters), cost, 'r')\n",
    "ax.set_xlabel('Iterations')\n",
    "ax.set_ylabel('Cost')\n",
    "ax.set_title('Error vs. Training Epoch')\n",
    "plt.show()"
   ]
  },
  {
   "cell_type": "code",
   "execution_count": 90,
   "metadata": {},
   "outputs": [
    {
     "name": "stdout",
     "output_type": "stream",
     "text": [
      "Train on 30 samples\n",
      "Epoch 1/10\n",
      "30/30 [==============================] - 0s 4ms/sample - loss: 6502953984.0000\n",
      "Epoch 2/10\n",
      "30/30 [==============================] - 0s 39us/sample - loss: 525588128.0000\n",
      "Epoch 3/10\n",
      "30/30 [==============================] - 0s 34us/sample - loss: 156518976.0000\n",
      "Epoch 4/10\n",
      "30/30 [==============================] - 0s 36us/sample - loss: 132264608.0000\n",
      "Epoch 5/10\n",
      "30/30 [==============================] - 0s 35us/sample - loss: 129234680.0000\n",
      "Epoch 6/10\n",
      "30/30 [==============================] - 0s 36us/sample - loss: 127534976.0000\n",
      "Epoch 7/10\n",
      "30/30 [==============================] - 0s 32us/sample - loss: 125941984.0000\n",
      "Epoch 8/10\n",
      "30/30 [==============================] - 0s 35us/sample - loss: 124380128.0000\n",
      "Epoch 9/10\n",
      "30/30 [==============================] - 0s 32us/sample - loss: 122844328.0000\n",
      "Epoch 10/10\n",
      "30/30 [==============================] - 0s 31us/sample - loss: 121333880.0000\n"
     ]
    },
    {
     "data": {
      "text/plain": [
       "<tensorflow.python.keras.callbacks.History at 0x7fa6444836d0>"
      ]
     },
     "execution_count": 90,
     "metadata": {},
     "output_type": "execute_result"
    }
   ],
   "source": [
    "import tensorflow as tf\n",
    "model=tf.keras.Sequential()\n",
    "model.add(tf.keras.layers.Dense(units=1,input_dim=2))\n",
    "model.compile(optimizer='SGD',loss='mse')\n",
    "model.fit(X,y,epochs=10)\n"
   ]
  },
  {
   "cell_type": "markdown",
   "metadata": {},
   "source": [
    "## 多变量线性回归"
   ]
  },
  {
   "cell_type": "markdown",
   "metadata": {},
   "source": [
    "练习1还包括一个时间预测数据集，其中有2个变量（车子英里数，次数）和目标（时间）。 我们使用我们已经应用的技术来分析数据集。\n",
    "多变量线性回归求解步骤和单变量线性回归相似，值得注意的一个问题是：\n",
    "对于多个特征变量，在计算模型参数之前要记得进行特征缩放，使各个特征值大致在同一范围内，有利于进行梯度下降算法求解模型参数。\n",
    "X^'=(X-μ)/σ  μ是特征值的平均值，σ是标准偏差。\n"
   ]
  },
  {
   "cell_type": "code",
   "execution_count": 88,
   "metadata": {},
   "outputs": [
    {
     "data": {
      "text/html": [
       "<div>\n",
       "<style scoped>\n",
       "    .dataframe tbody tr th:only-of-type {\n",
       "        vertical-align: middle;\n",
       "    }\n",
       "\n",
       "    .dataframe tbody tr th {\n",
       "        vertical-align: top;\n",
       "    }\n",
       "\n",
       "    .dataframe thead th {\n",
       "        text-align: right;\n",
       "    }\n",
       "</style>\n",
       "<table border=\"1\" class=\"dataframe\">\n",
       "  <thead>\n",
       "    <tr style=\"text-align: right;\">\n",
       "      <th></th>\n",
       "      <th>YearsExperience</th>\n",
       "      <th>day</th>\n",
       "      <th>Salary</th>\n",
       "    </tr>\n",
       "  </thead>\n",
       "  <tbody>\n",
       "    <tr>\n",
       "      <th>count</th>\n",
       "      <td>30.000000</td>\n",
       "      <td>30.000000</td>\n",
       "      <td>30.000000</td>\n",
       "    </tr>\n",
       "    <tr>\n",
       "      <th>mean</th>\n",
       "      <td>5.313333</td>\n",
       "      <td>23.600000</td>\n",
       "      <td>76003.000000</td>\n",
       "    </tr>\n",
       "    <tr>\n",
       "      <th>std</th>\n",
       "      <td>2.837888</td>\n",
       "      <td>1.792706</td>\n",
       "      <td>27414.429785</td>\n",
       "    </tr>\n",
       "    <tr>\n",
       "      <th>min</th>\n",
       "      <td>1.100000</td>\n",
       "      <td>20.000000</td>\n",
       "      <td>37731.000000</td>\n",
       "    </tr>\n",
       "    <tr>\n",
       "      <th>25%</th>\n",
       "      <td>3.200000</td>\n",
       "      <td>22.250000</td>\n",
       "      <td>56720.750000</td>\n",
       "    </tr>\n",
       "    <tr>\n",
       "      <th>50%</th>\n",
       "      <td>4.700000</td>\n",
       "      <td>24.000000</td>\n",
       "      <td>65237.000000</td>\n",
       "    </tr>\n",
       "    <tr>\n",
       "      <th>75%</th>\n",
       "      <td>7.700000</td>\n",
       "      <td>25.000000</td>\n",
       "      <td>100544.750000</td>\n",
       "    </tr>\n",
       "    <tr>\n",
       "      <th>max</th>\n",
       "      <td>10.500000</td>\n",
       "      <td>27.000000</td>\n",
       "      <td>122391.000000</td>\n",
       "    </tr>\n",
       "  </tbody>\n",
       "</table>\n",
       "</div>"
      ],
      "text/plain": [
       "       YearsExperience        day         Salary\n",
       "count        30.000000  30.000000      30.000000\n",
       "mean          5.313333  23.600000   76003.000000\n",
       "std           2.837888   1.792706   27414.429785\n",
       "min           1.100000  20.000000   37731.000000\n",
       "25%           3.200000  22.250000   56720.750000\n",
       "50%           4.700000  24.000000   65237.000000\n",
       "75%           7.700000  25.000000  100544.750000\n",
       "max          10.500000  27.000000  122391.000000"
      ]
     },
     "execution_count": 88,
     "metadata": {},
     "output_type": "execute_result"
    }
   ],
   "source": [
    "path = 'Salary_Datayears.csv'\n",
    "data2 = pd.read_csv(path, header=None, names=['YearsExperience','day', 'Salary'])\n",
    "data2.head()\n",
    "data2.describe()"
   ]
  },
  {
   "cell_type": "markdown",
   "metadata": {},
   "source": [
    "对于此任务，我们添加了另一个预处理步骤 - 特征归一化(特征缩放）。 这个对于pandas来说很简单"
   ]
  },
  {
   "cell_type": "code",
   "execution_count": 89,
   "metadata": {},
   "outputs": [
    {
     "data": {
      "text/html": [
       "<div>\n",
       "<style scoped>\n",
       "    .dataframe tbody tr th:only-of-type {\n",
       "        vertical-align: middle;\n",
       "    }\n",
       "\n",
       "    .dataframe tbody tr th {\n",
       "        vertical-align: top;\n",
       "    }\n",
       "\n",
       "    .dataframe thead th {\n",
       "        text-align: right;\n",
       "    }\n",
       "</style>\n",
       "<table border=\"1\" class=\"dataframe\">\n",
       "  <thead>\n",
       "    <tr style=\"text-align: right;\">\n",
       "      <th></th>\n",
       "      <th>YearsExperience</th>\n",
       "      <th>day</th>\n",
       "      <th>Salary</th>\n",
       "    </tr>\n",
       "  </thead>\n",
       "  <tbody>\n",
       "    <tr>\n",
       "      <th>0</th>\n",
       "      <td>-1.484672</td>\n",
       "      <td>0.223126</td>\n",
       "      <td>-1.337252</td>\n",
       "    </tr>\n",
       "    <tr>\n",
       "      <th>1</th>\n",
       "      <td>-1.414197</td>\n",
       "      <td>-0.892506</td>\n",
       "      <td>-1.086946</td>\n",
       "    </tr>\n",
       "    <tr>\n",
       "      <th>2</th>\n",
       "      <td>-1.343722</td>\n",
       "      <td>0.780943</td>\n",
       "      <td>-1.396053</td>\n",
       "    </tr>\n",
       "    <tr>\n",
       "      <th>3</th>\n",
       "      <td>-1.167535</td>\n",
       "      <td>0.780943</td>\n",
       "      <td>-1.184705</td>\n",
       "    </tr>\n",
       "    <tr>\n",
       "      <th>4</th>\n",
       "      <td>-1.097060</td>\n",
       "      <td>-1.450322</td>\n",
       "      <td>-1.317262</td>\n",
       "    </tr>\n",
       "  </tbody>\n",
       "</table>\n",
       "</div>"
      ],
      "text/plain": [
       "   YearsExperience       day    Salary\n",
       "0        -1.484672  0.223126 -1.337252\n",
       "1        -1.414197 -0.892506 -1.086946\n",
       "2        -1.343722  0.780943 -1.396053\n",
       "3        -1.167535  0.780943 -1.184705\n",
       "4        -1.097060 -1.450322 -1.317262"
      ]
     },
     "execution_count": 89,
     "metadata": {},
     "output_type": "execute_result"
    }
   ],
   "source": [
    "data2 = (data2 - data2.mean()) / data2.std()\n",
    "data2.head()"
   ]
  },
  {
   "cell_type": "markdown",
   "metadata": {},
   "source": [
    "现在我们重复第1部分的预处理步骤，并对新数据集运行线性回归程序。"
   ]
  },
  {
   "cell_type": "code",
   "execution_count": null,
   "metadata": {},
   "outputs": [],
   "source": [
    "data2.insert(0, 'Ones', 1)"
   ]
  },
  {
   "cell_type": "code",
   "execution_count": 108,
   "metadata": {},
   "outputs": [
    {
     "data": {
      "text/plain": [
       "0.012608977863332102"
      ]
     },
     "execution_count": 108,
     "metadata": {},
     "output_type": "execute_result"
    }
   ],
   "source": [
    "alpha=0.01\n",
    "iters=1000\n",
    "# add ones co\n",
    "#\n",
    "\n",
    "# set X (training data) and y (target variable)\n",
    "cols = data2.shape[1]\n",
    "X2 = data2.iloc[:,0:cols-1]\n",
    "y2 = data2.iloc[:,cols-1:cols]\n",
    "\n",
    "# convert to matrices and initialize theta\n",
    "X2 = np.matrix(X2.values)\n",
    "y2 = np.matrix(y2.values)\n",
    "theta2 = np.matrix(np.array([0,0,0]))\n",
    "\n",
    "# perform linear regression on the data set\n",
    "g2, cost2 = gradientDescent(X2, y2, theta2, alpha, iters)\n",
    "\n",
    "# get the cost (error) of the model\n",
    "computeCost(X2, y2, g2)"
   ]
  },
  {
   "cell_type": "code",
   "execution_count": 97,
   "metadata": {},
   "outputs": [
    {
     "data": {
      "text/plain": [
       "matrix([[1.14204942e-16, 9.73271057e-01, 1.30320716e-01]])"
      ]
     },
     "execution_count": 97,
     "metadata": {},
     "output_type": "execute_result"
    }
   ],
   "source": [
    "g2"
   ]
  },
  {
   "cell_type": "markdown",
   "metadata": {},
   "source": [
    "我们也可以快速查看这一个的训练进程。"
   ]
  },
  {
   "cell_type": "code",
   "execution_count": 98,
   "metadata": {},
   "outputs": [
    {
     "data": {
      "image/png": "[encoded data removed]",
      "text/plain": [
       "<Figure size 1200x800 with 1 Axes>"
      ]
     },
     "metadata": {},
     "output_type": "display_data"
    }
   ],
   "source": [
    "fig, ax = plt.subplots(figsize=(12,8))\n",
    "ax.plot(np.arange(iters), cost2, 'r')\n",
    "ax.set_xlabel('Iterations')\n",
    "ax.set_ylabel('Cost')\n",
    "ax.set_title('Error vs. Training Epoch')\n",
    "plt.show()"
   ]
  },
  {
   "cell_type": "markdown",
   "metadata": {},
   "source": [
    "我们也可以使用scikit-learn的线性回归函数，而不是从头开始实现这些算法。 我们将scikit-learn的线性回归算法应用于第1部分的数据，并看看它的表现。"
   ]
  },
  {
   "cell_type": "code",
   "execution_count": 107,
   "metadata": {},
   "outputs": [
    {
     "data": {
      "text/plain": [
       "LinearRegression(copy_X=True, fit_intercept=True, n_jobs=None, normalize=False)"
      ]
     },
     "execution_count": 107,
     "metadata": {},
     "output_type": "execute_result"
    }
   ],
   "source": [
    "from sklearn import linear_model\n",
    "model = linear_model.LinearRegression()\n",
    "model.fit(X, y)"
   ]
  },
  {
   "cell_type": "markdown",
   "metadata": {},
   "source": [
    "scikit-learn model的预测表现"
   ]
  },
  {
   "cell_type": "code",
   "execution_count": 101,
   "metadata": {},
   "outputs": [
    {
     "data": {
      "image/png": "[encoded data removed]",
      "text/plain": [
       "<Figure size 1200x800 with 1 Axes>"
      ]
     },
     "metadata": {},
     "output_type": "display_data"
    }
   ],
   "source": [
    "x = np.array(X[:, 1].A1)\n",
    "f = model.predict(X).flatten()\n",
    "\n",
    "fig, ax = plt.subplots(figsize=(12,8))\n",
    "ax.plot(x, f, 'r', label='Prediction')\n",
    "ax.scatter(data.YearsExperience, data.Salary, label='Traning Data')\n",
    "ax.legend(loc=2)\n",
    "ax.set_xlabel('YearsExperience')\n",
    "ax.set_ylabel('Salary')\n",
    "ax.set_title('Predicted Salary vs. YearsExperience Size')\n",
    "plt.show()"
   ]
  },
  {
   "cell_type": "code",
   "execution_count": null,
   "metadata": {},
   "outputs": [],
   "source": [
    "import tensorflow as tf"
   ]
  },
  {
   "cell_type": "code",
   "execution_count": 109,
   "metadata": {},
   "outputs": [
    {
     "name": "stdout",
     "output_type": "stream",
     "text": [
      "Train on 30 samples\n",
      "Epoch 1/100\n",
      "30/30 [==============================] - 0s 4ms/sample - loss: 3.7095\n",
      "Epoch 2/100\n",
      "30/30 [==============================] - 0s 44us/sample - loss: 3.5544\n",
      "Epoch 3/100\n",
      "30/30 [==============================] - 0s 41us/sample - loss: 3.4063\n",
      "Epoch 4/100\n",
      "30/30 [==============================] - 0s 34us/sample - loss: 3.2647\n",
      "Epoch 5/100\n",
      "30/30 [==============================] - 0s 33us/sample - loss: 3.1293\n",
      "Epoch 6/100\n",
      "30/30 [==============================] - 0s 30us/sample - loss: 2.9999\n",
      "Epoch 7/100\n",
      "30/30 [==============================] - 0s 33us/sample - loss: 2.8762\n",
      "Epoch 8/100\n",
      "30/30 [==============================] - 0s 33us/sample - loss: 2.7578\n",
      "Epoch 9/100\n",
      "30/30 [==============================] - 0s 30us/sample - loss: 2.6446\n",
      "Epoch 10/100\n",
      "30/30 [==============================] - 0s 28us/sample - loss: 2.5363\n",
      "Epoch 11/100\n",
      "30/30 [==============================] - 0s 28us/sample - loss: 2.4326\n",
      "Epoch 12/100\n",
      "30/30 [==============================] - 0s 30us/sample - loss: 2.3335\n",
      "Epoch 13/100\n",
      "30/30 [==============================] - 0s 27us/sample - loss: 2.2385\n",
      "Epoch 14/100\n",
      "30/30 [==============================] - 0s 28us/sample - loss: 2.1477\n",
      "Epoch 15/100\n",
      "30/30 [==============================] - 0s 28us/sample - loss: 2.0607\n",
      "Epoch 16/100\n",
      "30/30 [==============================] - 0s 29us/sample - loss: 1.9774\n",
      "Epoch 17/100\n",
      "30/30 [==============================] - 0s 30us/sample - loss: 1.8976\n",
      "Epoch 18/100\n",
      "30/30 [==============================] - 0s 30us/sample - loss: 1.8212\n",
      "Epoch 19/100\n",
      "30/30 [==============================] - 0s 28us/sample - loss: 1.7480\n",
      "Epoch 20/100\n",
      "30/30 [==============================] - 0s 29us/sample - loss: 1.6779\n",
      "Epoch 21/100\n",
      "30/30 [==============================] - 0s 29us/sample - loss: 1.6108\n",
      "Epoch 22/100\n",
      "30/30 [==============================] - 0s 34us/sample - loss: 1.5464\n",
      "Epoch 23/100\n",
      "30/30 [==============================] - 0s 30us/sample - loss: 1.4848\n",
      "Epoch 24/100\n",
      "30/30 [==============================] - 0s 31us/sample - loss: 1.4257\n",
      "Epoch 25/100\n",
      "30/30 [==============================] - 0s 32us/sample - loss: 1.3690\n",
      "Epoch 26/100\n",
      "30/30 [==============================] - 0s 31us/sample - loss: 1.3148\n",
      "Epoch 27/100\n",
      "30/30 [==============================] - 0s 29us/sample - loss: 1.2627\n",
      "Epoch 28/100\n",
      "30/30 [==============================] - 0s 30us/sample - loss: 1.2128\n",
      "Epoch 29/100\n",
      "30/30 [==============================] - 0s 30us/sample - loss: 1.1650\n",
      "Epoch 30/100\n",
      "30/30 [==============================] - 0s 29us/sample - loss: 1.1191\n",
      "Epoch 31/100\n",
      "30/30 [==============================] - 0s 29us/sample - loss: 1.0752\n",
      "Epoch 32/100\n",
      "30/30 [==============================] - 0s 31us/sample - loss: 1.0330\n",
      "Epoch 33/100\n",
      "30/30 [==============================] - 0s 32us/sample - loss: 0.9926\n",
      "Epoch 34/100\n",
      "30/30 [==============================] - 0s 32us/sample - loss: 0.9538\n",
      "Epoch 35/100\n",
      "30/30 [==============================] - 0s 31us/sample - loss: 0.9166\n",
      "Epoch 36/100\n",
      "30/30 [==============================] - 0s 30us/sample - loss: 0.8809\n",
      "Epoch 37/100\n",
      "30/30 [==============================] - 0s 28us/sample - loss: 0.8466\n",
      "Epoch 38/100\n",
      "30/30 [==============================] - 0s 28us/sample - loss: 0.8138\n",
      "Epoch 39/100\n",
      "30/30 [==============================] - 0s 30us/sample - loss: 0.7823\n",
      "Epoch 40/100\n",
      "30/30 [==============================] - 0s 29us/sample - loss: 0.7521\n",
      "Epoch 41/100\n",
      "30/30 [==============================] - 0s 32us/sample - loss: 0.7231\n",
      "Epoch 42/100\n",
      "30/30 [==============================] - 0s 33us/sample - loss: 0.6952\n",
      "Epoch 43/100\n",
      "30/30 [==============================] - 0s 32us/sample - loss: 0.6685\n",
      "Epoch 44/100\n",
      "30/30 [==============================] - 0s 31us/sample - loss: 0.6429\n",
      "Epoch 45/100\n",
      "30/30 [==============================] - 0s 43us/sample - loss: 0.6183\n",
      "Epoch 46/100\n",
      "30/30 [==============================] - 0s 43us/sample - loss: 0.5947\n",
      "Epoch 47/100\n",
      "30/30 [==============================] - 0s 34us/sample - loss: 0.5721\n",
      "Epoch 48/100\n",
      "30/30 [==============================] - 0s 29us/sample - loss: 0.5503\n",
      "Epoch 49/100\n",
      "30/30 [==============================] - 0s 28us/sample - loss: 0.5295\n",
      "Epoch 50/100\n",
      "30/30 [==============================] - 0s 32us/sample - loss: 0.5094\n",
      "Epoch 51/100\n",
      "30/30 [==============================] - 0s 33us/sample - loss: 0.4902\n",
      "Epoch 52/100\n",
      "30/30 [==============================] - 0s 30us/sample - loss: 0.4717\n",
      "Epoch 53/100\n",
      "30/30 [==============================] - 0s 30us/sample - loss: 0.4540\n",
      "Epoch 54/100\n",
      "30/30 [==============================] - 0s 31us/sample - loss: 0.4370\n",
      "Epoch 55/100\n",
      "30/30 [==============================] - 0s 30us/sample - loss: 0.4207\n",
      "Epoch 56/100\n",
      "30/30 [==============================] - 0s 28us/sample - loss: 0.4050\n",
      "Epoch 57/100\n",
      "30/30 [==============================] - 0s 28us/sample - loss: 0.3900\n",
      "Epoch 58/100\n",
      "30/30 [==============================] - 0s 29us/sample - loss: 0.3755\n",
      "Epoch 59/100\n",
      "30/30 [==============================] - 0s 30us/sample - loss: 0.3617\n",
      "Epoch 60/100\n",
      "30/30 [==============================] - 0s 31us/sample - loss: 0.3484\n",
      "Epoch 61/100\n",
      "30/30 [==============================] - 0s 31us/sample - loss: 0.3356\n",
      "Epoch 62/100\n",
      "30/30 [==============================] - 0s 30us/sample - loss: 0.3233\n",
      "Epoch 63/100\n",
      "30/30 [==============================] - 0s 31us/sample - loss: 0.3115\n",
      "Epoch 64/100\n",
      "30/30 [==============================] - 0s 31us/sample - loss: 0.3002\n",
      "Epoch 65/100\n",
      "30/30 [==============================] - 0s 28us/sample - loss: 0.2893\n",
      "Epoch 66/100\n",
      "30/30 [==============================] - 0s 30us/sample - loss: 0.2789\n",
      "Epoch 67/100\n",
      "30/30 [==============================] - 0s 27us/sample - loss: 0.2689\n",
      "Epoch 68/100\n",
      "30/30 [==============================] - 0s 30us/sample - loss: 0.2593\n",
      "Epoch 69/100\n",
      "30/30 [==============================] - 0s 31us/sample - loss: 0.2500\n",
      "Epoch 70/100\n",
      "30/30 [==============================] - 0s 26us/sample - loss: 0.2411\n",
      "Epoch 71/100\n",
      "30/30 [==============================] - 0s 31us/sample - loss: 0.2326\n",
      "Epoch 72/100\n",
      "30/30 [==============================] - 0s 30us/sample - loss: 0.2244\n",
      "Epoch 73/100\n",
      "30/30 [==============================] - 0s 30us/sample - loss: 0.2166\n",
      "Epoch 74/100\n",
      "30/30 [==============================] - 0s 31us/sample - loss: 0.2090\n",
      "Epoch 75/100\n",
      "30/30 [==============================] - 0s 30us/sample - loss: 0.2018\n",
      "Epoch 76/100\n",
      "30/30 [==============================] - 0s 27us/sample - loss: 0.1948\n",
      "Epoch 77/100\n",
      "30/30 [==============================] - 0s 27us/sample - loss: 0.1881\n",
      "Epoch 78/100\n",
      "30/30 [==============================] - 0s 27us/sample - loss: 0.1817\n",
      "Epoch 79/100\n",
      "30/30 [==============================] - 0s 27us/sample - loss: 0.1755\n",
      "Epoch 80/100\n",
      "30/30 [==============================] - 0s 32us/sample - loss: 0.1696\n",
      "Epoch 81/100\n",
      "30/30 [==============================] - 0s 30us/sample - loss: 0.1639\n",
      "Epoch 82/100\n",
      "30/30 [==============================] - 0s 30us/sample - loss: 0.1585\n",
      "Epoch 83/100\n",
      "30/30 [==============================] - 0s 30us/sample - loss: 0.1532\n",
      "Epoch 84/100\n",
      "30/30 [==============================] - 0s 29us/sample - loss: 0.1482\n",
      "Epoch 85/100\n",
      "30/30 [==============================] - 0s 32us/sample - loss: 0.1433\n",
      "Epoch 86/100\n",
      "30/30 [==============================] - 0s 29us/sample - loss: 0.1387\n",
      "Epoch 87/100\n",
      "30/30 [==============================] - 0s 28us/sample - loss: 0.1342\n",
      "Epoch 88/100\n",
      "30/30 [==============================] - 0s 29us/sample - loss: 0.1299\n",
      "Epoch 89/100\n",
      "30/30 [==============================] - 0s 29us/sample - loss: 0.1258\n",
      "Epoch 90/100\n",
      "30/30 [==============================] - 0s 28us/sample - loss: 0.1218\n",
      "Epoch 91/100\n",
      "30/30 [==============================] - 0s 28us/sample - loss: 0.1180\n",
      "Epoch 92/100\n",
      "30/30 [==============================] - 0s 28us/sample - loss: 0.1144\n",
      "Epoch 93/100\n",
      "30/30 [==============================] - 0s 30us/sample - loss: 0.1109\n",
      "Epoch 94/100\n",
      "30/30 [==============================] - 0s 30us/sample - loss: 0.1075\n",
      "Epoch 95/100\n",
      "30/30 [==============================] - 0s 30us/sample - loss: 0.1043\n",
      "Epoch 96/100\n",
      "30/30 [==============================] - 0s 44us/sample - loss: 0.1012\n",
      "Epoch 97/100\n",
      "30/30 [==============================] - 0s 37us/sample - loss: 0.0982\n",
      "Epoch 98/100\n",
      "30/30 [==============================] - 0s 35us/sample - loss: 0.0953\n",
      "Epoch 99/100\n",
      "30/30 [==============================] - 0s 30us/sample - loss: 0.0925\n",
      "Epoch 100/100\n",
      "30/30 [==============================] - 0s 27us/sample - loss: 0.0899\n"
     ]
    },
    {
     "data": {
      "text/plain": [
       "<tensorflow.python.keras.callbacks.History at 0x7fa4f813bcd0>"
      ]
     },
     "execution_count": 109,
     "metadata": {},
     "output_type": "execute_result"
    }
   ],
   "source": [
    "import tensorflow as tf\n",
    "model=tf.keras.Sequential()\n",
    "model.add(tf.keras.layers.Dense(units=1,input_dim=3))\n",
    "model.compile(optimizer='SGD',loss='mse')\n",
    "model.fit(X2,y2,epochs=100,batch_size=32)"
   ]
  },
  {
   "cell_type": "code",
   "execution_count": null,
   "metadata": {},
   "outputs": [],
   "source": [
    "model = tf.keras.Sequential()\n",
    "model.add(tf.keras.layers.Dense(units=1,input_dim=1))\n",
    "model.compile(optimizer='sgd',loss='mse')\n",
    "model.fit(X,y,epochs=10,batch_size=32)\n"
   ]
  }
 ],
 "metadata": {
  "anaconda-cloud": {},
  "kernelspec": {
   "display_name": "python-3.7.10",
   "language": "python",
   "name": "python-3.7.10"
  },
  "language_info": {
   "codemirror_mode": {
    "name": "ipython",
    "version": 3
   },
   "file_extension": ".py",
   "mimetype": "text/x-python",
   "name": "python",
   "nbconvert_exporter": "python",
   "pygments_lexer": "ipython3",
   "version": "3.7.10"
  }
 },
 "nbformat": 4,
 "nbformat_minor": 4
}
